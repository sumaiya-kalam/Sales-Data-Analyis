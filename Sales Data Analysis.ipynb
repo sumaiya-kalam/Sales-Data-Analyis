{
 "cells": [
  {
   "cell_type": "markdown",
   "id": "637c282f",
   "metadata": {},
   "source": [
    "# Sales Data Analysis\n",
    "\n",
    "## Here we will analyse the data for different purposes with the help of python module .\n",
    "\n",
    "### At first we have to import the modules which we will use in this project"
   ]
  },
  {
   "cell_type": "code",
   "execution_count": 1,
   "id": "233226c9",
   "metadata": {},
   "outputs": [],
   "source": [
    "import pandas as pd\n",
    "import numpy as np\n",
    "import matplotlib.pyplot as plt\n",
    "import os\n",
    "%matplotlib inline"
   ]
  },
  {
   "cell_type": "markdown",
   "id": "b937a9ca",
   "metadata": {},
   "source": [
    "## Import dataset from the operating system"
   ]
  },
  {
   "cell_type": "code",
   "execution_count": 2,
   "id": "01e8ac55",
   "metadata": {},
   "outputs": [],
   "source": [
    "Filelist=os.listdir('D:\\sales_data\\data')\n",
    "path='D:\\sales_data\\data'\n",
    "dataset=pd.DataFrame()"
   ]
  },
  {
   "cell_type": "code",
   "execution_count": 3,
   "id": "25e2ae05",
   "metadata": {},
   "outputs": [],
   "source": [
    "for file in Filelist:   \n",
    "    month=pd.read_csv(path + \"/\" + file)\n",
    "    dataset=pd.concat([dataset,month])"
   ]
  },
  {
   "cell_type": "code",
   "execution_count": 4,
   "id": "92b30da6",
   "metadata": {},
   "outputs": [],
   "source": [
    "dataset.to_csv('D:\\sales_data\\dataset.csv',index=False)"
   ]
  },
  {
   "cell_type": "code",
   "execution_count": 5,
   "id": "882e3631",
   "metadata": {},
   "outputs": [
    {
     "data": {
      "text/plain": [
       "(186850, 6)"
      ]
     },
     "execution_count": 5,
     "metadata": {},
     "output_type": "execute_result"
    }
   ],
   "source": [
    "dataset.shape"
   ]
  },
  {
   "cell_type": "code",
   "execution_count": 6,
   "id": "1da010b7",
   "metadata": {},
   "outputs": [
    {
     "data": {
      "text/plain": [
       "Order ID            object\n",
       "Product             object\n",
       "Quantity Ordered    object\n",
       "Price Each          object\n",
       "Order Date          object\n",
       "Purchase Address    object\n",
       "dtype: object"
      ]
     },
     "execution_count": 6,
     "metadata": {},
     "output_type": "execute_result"
    }
   ],
   "source": [
    "dataset.dtypes"
   ]
  },
  {
   "cell_type": "code",
   "execution_count": 7,
   "id": "6fb27b8d",
   "metadata": {},
   "outputs": [
    {
     "data": {
      "text/plain": [
       "<bound method DataFrame.info of       Order ID                     Product Quantity Ordered Price Each  \\\n",
       "0       176558        USB-C Charging Cable                2      11.95   \n",
       "1          NaN                         NaN              NaN        NaN   \n",
       "2       176559  Bose SoundSport Headphones                1      99.99   \n",
       "3       176560                Google Phone                1        600   \n",
       "4       176560            Wired Headphones                1      11.99   \n",
       "...        ...                         ...              ...        ...   \n",
       "11681   259353      AAA Batteries (4-pack)                3       2.99   \n",
       "11682   259354                      iPhone                1        700   \n",
       "11683   259355                      iPhone                1        700   \n",
       "11684   259356      34in Ultrawide Monitor                1     379.99   \n",
       "11685   259357        USB-C Charging Cable                1      11.95   \n",
       "\n",
       "           Order Date                         Purchase Address  \n",
       "0      04/19/19 08:46             917 1st St, Dallas, TX 75001  \n",
       "1                 NaN                                      NaN  \n",
       "2      04/07/19 22:30        682 Chestnut St, Boston, MA 02215  \n",
       "3      04/12/19 14:38     669 Spruce St, Los Angeles, CA 90001  \n",
       "4      04/12/19 14:38     669 Spruce St, Los Angeles, CA 90001  \n",
       "...               ...                                      ...  \n",
       "11681  09/17/19 20:56   840 Highland St, Los Angeles, CA 90001  \n",
       "11682  09/01/19 16:00  216 Dogwood St, San Francisco, CA 94016  \n",
       "11683  09/23/19 07:39     220 12th St, San Francisco, CA 94016  \n",
       "11684  09/19/19 17:30   511 Forest St, San Francisco, CA 94016  \n",
       "11685  09/30/19 00:18   250 Meadow St, San Francisco, CA 94016  \n",
       "\n",
       "[186850 rows x 6 columns]>"
      ]
     },
     "execution_count": 7,
     "metadata": {},
     "output_type": "execute_result"
    }
   ],
   "source": [
    "dataset.info"
   ]
  },
  {
   "cell_type": "code",
   "execution_count": 8,
   "id": "19a89882",
   "metadata": {},
   "outputs": [
    {
     "data": {
      "text/plain": [
       "<bound method NDFrame.describe of       Order ID                     Product Quantity Ordered Price Each  \\\n",
       "0       176558        USB-C Charging Cable                2      11.95   \n",
       "1          NaN                         NaN              NaN        NaN   \n",
       "2       176559  Bose SoundSport Headphones                1      99.99   \n",
       "3       176560                Google Phone                1        600   \n",
       "4       176560            Wired Headphones                1      11.99   \n",
       "...        ...                         ...              ...        ...   \n",
       "11681   259353      AAA Batteries (4-pack)                3       2.99   \n",
       "11682   259354                      iPhone                1        700   \n",
       "11683   259355                      iPhone                1        700   \n",
       "11684   259356      34in Ultrawide Monitor                1     379.99   \n",
       "11685   259357        USB-C Charging Cable                1      11.95   \n",
       "\n",
       "           Order Date                         Purchase Address  \n",
       "0      04/19/19 08:46             917 1st St, Dallas, TX 75001  \n",
       "1                 NaN                                      NaN  \n",
       "2      04/07/19 22:30        682 Chestnut St, Boston, MA 02215  \n",
       "3      04/12/19 14:38     669 Spruce St, Los Angeles, CA 90001  \n",
       "4      04/12/19 14:38     669 Spruce St, Los Angeles, CA 90001  \n",
       "...               ...                                      ...  \n",
       "11681  09/17/19 20:56   840 Highland St, Los Angeles, CA 90001  \n",
       "11682  09/01/19 16:00  216 Dogwood St, San Francisco, CA 94016  \n",
       "11683  09/23/19 07:39     220 12th St, San Francisco, CA 94016  \n",
       "11684  09/19/19 17:30   511 Forest St, San Francisco, CA 94016  \n",
       "11685  09/30/19 00:18   250 Meadow St, San Francisco, CA 94016  \n",
       "\n",
       "[186850 rows x 6 columns]>"
      ]
     },
     "execution_count": 8,
     "metadata": {},
     "output_type": "execute_result"
    }
   ],
   "source": [
    "dataset.describe"
   ]
  },
  {
   "cell_type": "markdown",
   "id": "5e100df1",
   "metadata": {},
   "source": [
    "## Data Processing"
   ]
  },
  {
   "cell_type": "code",
   "execution_count": 9,
   "id": "e0a7dede",
   "metadata": {},
   "outputs": [
    {
     "data": {
      "text/plain": [
       "Order ID            545\n",
       "Product             545\n",
       "Quantity Ordered    545\n",
       "Price Each          545\n",
       "Order Date          545\n",
       "Purchase Address    545\n",
       "dtype: int64"
      ]
     },
     "execution_count": 9,
     "metadata": {},
     "output_type": "execute_result"
    }
   ],
   "source": [
    "dataset.isnull().sum()"
   ]
  },
  {
   "cell_type": "code",
   "execution_count": 10,
   "id": "d8ba8d5a",
   "metadata": {},
   "outputs": [],
   "source": [
    "dataset=dataset.dropna(how=\"all\")"
   ]
  },
  {
   "cell_type": "markdown",
   "id": "4615a7a0",
   "metadata": {},
   "source": [
    "### Lets see how the dataset looks after removing the null value"
   ]
  },
  {
   "cell_type": "code",
   "execution_count": 11,
   "id": "52922f48",
   "metadata": {},
   "outputs": [
    {
     "data": {
      "text/html": [
       "<div>\n",
       "<style scoped>\n",
       "    .dataframe tbody tr th:only-of-type {\n",
       "        vertical-align: middle;\n",
       "    }\n",
       "\n",
       "    .dataframe tbody tr th {\n",
       "        vertical-align: top;\n",
       "    }\n",
       "\n",
       "    .dataframe thead th {\n",
       "        text-align: right;\n",
       "    }\n",
       "</style>\n",
       "<table border=\"1\" class=\"dataframe\">\n",
       "  <thead>\n",
       "    <tr style=\"text-align: right;\">\n",
       "      <th></th>\n",
       "      <th>Order ID</th>\n",
       "      <th>Product</th>\n",
       "      <th>Quantity Ordered</th>\n",
       "      <th>Price Each</th>\n",
       "      <th>Order Date</th>\n",
       "      <th>Purchase Address</th>\n",
       "    </tr>\n",
       "  </thead>\n",
       "  <tbody>\n",
       "    <tr>\n",
       "      <th>0</th>\n",
       "      <td>176558</td>\n",
       "      <td>USB-C Charging Cable</td>\n",
       "      <td>2</td>\n",
       "      <td>11.95</td>\n",
       "      <td>04/19/19 08:46</td>\n",
       "      <td>917 1st St, Dallas, TX 75001</td>\n",
       "    </tr>\n",
       "    <tr>\n",
       "      <th>2</th>\n",
       "      <td>176559</td>\n",
       "      <td>Bose SoundSport Headphones</td>\n",
       "      <td>1</td>\n",
       "      <td>99.99</td>\n",
       "      <td>04/07/19 22:30</td>\n",
       "      <td>682 Chestnut St, Boston, MA 02215</td>\n",
       "    </tr>\n",
       "    <tr>\n",
       "      <th>3</th>\n",
       "      <td>176560</td>\n",
       "      <td>Google Phone</td>\n",
       "      <td>1</td>\n",
       "      <td>600</td>\n",
       "      <td>04/12/19 14:38</td>\n",
       "      <td>669 Spruce St, Los Angeles, CA 90001</td>\n",
       "    </tr>\n",
       "    <tr>\n",
       "      <th>4</th>\n",
       "      <td>176560</td>\n",
       "      <td>Wired Headphones</td>\n",
       "      <td>1</td>\n",
       "      <td>11.99</td>\n",
       "      <td>04/12/19 14:38</td>\n",
       "      <td>669 Spruce St, Los Angeles, CA 90001</td>\n",
       "    </tr>\n",
       "    <tr>\n",
       "      <th>5</th>\n",
       "      <td>176561</td>\n",
       "      <td>Wired Headphones</td>\n",
       "      <td>1</td>\n",
       "      <td>11.99</td>\n",
       "      <td>04/30/19 09:27</td>\n",
       "      <td>333 8th St, Los Angeles, CA 90001</td>\n",
       "    </tr>\n",
       "  </tbody>\n",
       "</table>\n",
       "</div>"
      ],
      "text/plain": [
       "  Order ID                     Product Quantity Ordered Price Each  \\\n",
       "0   176558        USB-C Charging Cable                2      11.95   \n",
       "2   176559  Bose SoundSport Headphones                1      99.99   \n",
       "3   176560                Google Phone                1        600   \n",
       "4   176560            Wired Headphones                1      11.99   \n",
       "5   176561            Wired Headphones                1      11.99   \n",
       "\n",
       "       Order Date                      Purchase Address  \n",
       "0  04/19/19 08:46          917 1st St, Dallas, TX 75001  \n",
       "2  04/07/19 22:30     682 Chestnut St, Boston, MA 02215  \n",
       "3  04/12/19 14:38  669 Spruce St, Los Angeles, CA 90001  \n",
       "4  04/12/19 14:38  669 Spruce St, Los Angeles, CA 90001  \n",
       "5  04/30/19 09:27     333 8th St, Los Angeles, CA 90001  "
      ]
     },
     "execution_count": 11,
     "metadata": {},
     "output_type": "execute_result"
    }
   ],
   "source": [
    "dataset.head(5)"
   ]
  },
  {
   "cell_type": "code",
   "execution_count": 12,
   "id": "e4c56188",
   "metadata": {},
   "outputs": [
    {
     "data": {
      "text/plain": [
       "Order ID            0\n",
       "Product             0\n",
       "Quantity Ordered    0\n",
       "Price Each          0\n",
       "Order Date          0\n",
       "Purchase Address    0\n",
       "dtype: int64"
      ]
     },
     "execution_count": 12,
     "metadata": {},
     "output_type": "execute_result"
    }
   ],
   "source": [
    "dataset.isnull().sum()"
   ]
  },
  {
   "cell_type": "markdown",
   "id": "c97901c5",
   "metadata": {},
   "source": [
    "## Study the data by each column"
   ]
  },
  {
   "cell_type": "code",
   "execution_count": 13,
   "id": "c72bec50",
   "metadata": {},
   "outputs": [
    {
     "data": {
      "text/plain": [
       "array(['11.95', '99.99', '600', '11.99', '1700', '14.95', '389.99',\n",
       "       '3.84', '150', '2.99', '700', '300', '149.99', '109.99', '600.0',\n",
       "       '999.99', '400', '379.99', 'Price Each', '700.0', '1700.0',\n",
       "       '150.0', '300.0', '400.0'], dtype=object)"
      ]
     },
     "execution_count": 13,
     "metadata": {},
     "output_type": "execute_result"
    }
   ],
   "source": [
    "dataset['Price Each'].unique()"
   ]
  },
  {
   "cell_type": "markdown",
   "id": "36d0222d",
   "metadata": {},
   "source": [
    "Here we can see that there is a string value called 'Price Each' in this array. we can't analyse the value in integer or float value for this . Thus we have to update the values where the wrong data doesn't exist."
   ]
  },
  {
   "cell_type": "code",
   "execution_count": 14,
   "id": "a5ed0067",
   "metadata": {},
   "outputs": [],
   "source": [
    "dataset=dataset[dataset['Price Each']!= 'Price Each']"
   ]
  },
  {
   "cell_type": "code",
   "execution_count": 15,
   "id": "ed4aa4f1",
   "metadata": {},
   "outputs": [],
   "source": [
    "dataset['Price Each']=dataset['Price Each'].astype(float)"
   ]
  },
  {
   "cell_type": "code",
   "execution_count": 16,
   "id": "f15dbf75",
   "metadata": {},
   "outputs": [
    {
     "data": {
      "text/plain": [
       "Order ID             object\n",
       "Product              object\n",
       "Quantity Ordered     object\n",
       "Price Each          float64\n",
       "Order Date           object\n",
       "Purchase Address     object\n",
       "dtype: object"
      ]
     },
     "execution_count": 16,
     "metadata": {},
     "output_type": "execute_result"
    }
   ],
   "source": [
    "dataset.dtypes"
   ]
  },
  {
   "cell_type": "markdown",
   "id": "b78d3513",
   "metadata": {},
   "source": [
    "### Likewise convert others data into integer or float"
   ]
  },
  {
   "cell_type": "code",
   "execution_count": 17,
   "id": "de5b2b07",
   "metadata": {},
   "outputs": [
    {
     "data": {
      "text/plain": [
       "array(['2', '1', '3', '5', '4', '7', '6', '8', '9'], dtype=object)"
      ]
     },
     "execution_count": 17,
     "metadata": {},
     "output_type": "execute_result"
    }
   ],
   "source": [
    "dataset['Quantity Ordered'].unique()"
   ]
  },
  {
   "cell_type": "code",
   "execution_count": 18,
   "id": "92d3955d",
   "metadata": {},
   "outputs": [],
   "source": [
    "dataset['Quantity Ordered']=dataset['Quantity Ordered'].astype(int)"
   ]
  },
  {
   "cell_type": "code",
   "execution_count": 19,
   "id": "ab9e4e1a",
   "metadata": {},
   "outputs": [
    {
     "data": {
      "text/plain": [
       "array(['176558', '176559', '176560', ..., '259355', '259356', '259357'],\n",
       "      dtype=object)"
      ]
     },
     "execution_count": 19,
     "metadata": {},
     "output_type": "execute_result"
    }
   ],
   "source": [
    "dataset['Order ID'].unique()"
   ]
  },
  {
   "cell_type": "code",
   "execution_count": 20,
   "id": "c0aabce9",
   "metadata": {},
   "outputs": [],
   "source": [
    "dataset['Order ID']=dataset['Order ID'].astype(int)"
   ]
  },
  {
   "cell_type": "code",
   "execution_count": 21,
   "id": "d4c4c16e",
   "metadata": {},
   "outputs": [
    {
     "data": {
      "text/plain": [
       "Order ID              int32\n",
       "Product              object\n",
       "Quantity Ordered      int32\n",
       "Price Each          float64\n",
       "Order Date           object\n",
       "Purchase Address     object\n",
       "dtype: object"
      ]
     },
     "execution_count": 21,
     "metadata": {},
     "output_type": "execute_result"
    }
   ],
   "source": [
    "dataset.dtypes"
   ]
  },
  {
   "cell_type": "code",
   "execution_count": 22,
   "id": "2d651456",
   "metadata": {},
   "outputs": [
    {
     "data": {
      "text/html": [
       "<div>\n",
       "<style scoped>\n",
       "    .dataframe tbody tr th:only-of-type {\n",
       "        vertical-align: middle;\n",
       "    }\n",
       "\n",
       "    .dataframe tbody tr th {\n",
       "        vertical-align: top;\n",
       "    }\n",
       "\n",
       "    .dataframe thead th {\n",
       "        text-align: right;\n",
       "    }\n",
       "</style>\n",
       "<table border=\"1\" class=\"dataframe\">\n",
       "  <thead>\n",
       "    <tr style=\"text-align: right;\">\n",
       "      <th></th>\n",
       "      <th>Order ID</th>\n",
       "      <th>Product</th>\n",
       "      <th>Quantity Ordered</th>\n",
       "      <th>Price Each</th>\n",
       "      <th>Order Date</th>\n",
       "      <th>Purchase Address</th>\n",
       "    </tr>\n",
       "  </thead>\n",
       "  <tbody>\n",
       "    <tr>\n",
       "      <th>0</th>\n",
       "      <td>176558</td>\n",
       "      <td>USB-C Charging Cable</td>\n",
       "      <td>2</td>\n",
       "      <td>11.95</td>\n",
       "      <td>04/19/19 08:46</td>\n",
       "      <td>917 1st St, Dallas, TX 75001</td>\n",
       "    </tr>\n",
       "    <tr>\n",
       "      <th>2</th>\n",
       "      <td>176559</td>\n",
       "      <td>Bose SoundSport Headphones</td>\n",
       "      <td>1</td>\n",
       "      <td>99.99</td>\n",
       "      <td>04/07/19 22:30</td>\n",
       "      <td>682 Chestnut St, Boston, MA 02215</td>\n",
       "    </tr>\n",
       "    <tr>\n",
       "      <th>3</th>\n",
       "      <td>176560</td>\n",
       "      <td>Google Phone</td>\n",
       "      <td>1</td>\n",
       "      <td>600.00</td>\n",
       "      <td>04/12/19 14:38</td>\n",
       "      <td>669 Spruce St, Los Angeles, CA 90001</td>\n",
       "    </tr>\n",
       "    <tr>\n",
       "      <th>4</th>\n",
       "      <td>176560</td>\n",
       "      <td>Wired Headphones</td>\n",
       "      <td>1</td>\n",
       "      <td>11.99</td>\n",
       "      <td>04/12/19 14:38</td>\n",
       "      <td>669 Spruce St, Los Angeles, CA 90001</td>\n",
       "    </tr>\n",
       "    <tr>\n",
       "      <th>5</th>\n",
       "      <td>176561</td>\n",
       "      <td>Wired Headphones</td>\n",
       "      <td>1</td>\n",
       "      <td>11.99</td>\n",
       "      <td>04/30/19 09:27</td>\n",
       "      <td>333 8th St, Los Angeles, CA 90001</td>\n",
       "    </tr>\n",
       "  </tbody>\n",
       "</table>\n",
       "</div>"
      ],
      "text/plain": [
       "   Order ID                     Product  Quantity Ordered  Price Each  \\\n",
       "0    176558        USB-C Charging Cable                 2       11.95   \n",
       "2    176559  Bose SoundSport Headphones                 1       99.99   \n",
       "3    176560                Google Phone                 1      600.00   \n",
       "4    176560            Wired Headphones                 1       11.99   \n",
       "5    176561            Wired Headphones                 1       11.99   \n",
       "\n",
       "       Order Date                      Purchase Address  \n",
       "0  04/19/19 08:46          917 1st St, Dallas, TX 75001  \n",
       "2  04/07/19 22:30     682 Chestnut St, Boston, MA 02215  \n",
       "3  04/12/19 14:38  669 Spruce St, Los Angeles, CA 90001  \n",
       "4  04/12/19 14:38  669 Spruce St, Los Angeles, CA 90001  \n",
       "5  04/30/19 09:27     333 8th St, Los Angeles, CA 90001  "
      ]
     },
     "execution_count": 22,
     "metadata": {},
     "output_type": "execute_result"
    }
   ],
   "source": [
    "dataset.head(5)"
   ]
  },
  {
   "cell_type": "markdown",
   "id": "0e57bf1c",
   "metadata": {},
   "source": [
    "## Lets analyse the data on month and determine in which month the sale is higher."
   ]
  },
  {
   "cell_type": "code",
   "execution_count": 23,
   "id": "495b2aa8",
   "metadata": {},
   "outputs": [
    {
     "data": {
      "text/plain": [
       "'04'"
      ]
     },
     "execution_count": 23,
     "metadata": {},
     "output_type": "execute_result"
    }
   ],
   "source": [
    "'04/19/19 08:46'.split('/')[0]"
   ]
  },
  {
   "cell_type": "code",
   "execution_count": 24,
   "id": "9574c452",
   "metadata": {},
   "outputs": [],
   "source": [
    "def month(x):\n",
    "    return x.split('/')[0]\n",
    "\n",
    "def day(x):\n",
    "    return x.split('/')[1]\n",
    "\n",
    "def year(x):\n",
    "    return x.split('/')[2]"
   ]
  },
  {
   "cell_type": "code",
   "execution_count": 25,
   "id": "daca455b",
   "metadata": {},
   "outputs": [],
   "source": [
    "dataset['Month']=dataset['Order Date'].apply(month)"
   ]
  },
  {
   "cell_type": "code",
   "execution_count": 26,
   "id": "e6d0bed2",
   "metadata": {},
   "outputs": [
    {
     "data": {
      "text/html": [
       "<div>\n",
       "<style scoped>\n",
       "    .dataframe tbody tr th:only-of-type {\n",
       "        vertical-align: middle;\n",
       "    }\n",
       "\n",
       "    .dataframe tbody tr th {\n",
       "        vertical-align: top;\n",
       "    }\n",
       "\n",
       "    .dataframe thead th {\n",
       "        text-align: right;\n",
       "    }\n",
       "</style>\n",
       "<table border=\"1\" class=\"dataframe\">\n",
       "  <thead>\n",
       "    <tr style=\"text-align: right;\">\n",
       "      <th></th>\n",
       "      <th>Order ID</th>\n",
       "      <th>Product</th>\n",
       "      <th>Quantity Ordered</th>\n",
       "      <th>Price Each</th>\n",
       "      <th>Order Date</th>\n",
       "      <th>Purchase Address</th>\n",
       "      <th>Month</th>\n",
       "    </tr>\n",
       "  </thead>\n",
       "  <tbody>\n",
       "    <tr>\n",
       "      <th>0</th>\n",
       "      <td>176558</td>\n",
       "      <td>USB-C Charging Cable</td>\n",
       "      <td>2</td>\n",
       "      <td>11.95</td>\n",
       "      <td>04/19/19 08:46</td>\n",
       "      <td>917 1st St, Dallas, TX 75001</td>\n",
       "      <td>04</td>\n",
       "    </tr>\n",
       "    <tr>\n",
       "      <th>2</th>\n",
       "      <td>176559</td>\n",
       "      <td>Bose SoundSport Headphones</td>\n",
       "      <td>1</td>\n",
       "      <td>99.99</td>\n",
       "      <td>04/07/19 22:30</td>\n",
       "      <td>682 Chestnut St, Boston, MA 02215</td>\n",
       "      <td>04</td>\n",
       "    </tr>\n",
       "    <tr>\n",
       "      <th>3</th>\n",
       "      <td>176560</td>\n",
       "      <td>Google Phone</td>\n",
       "      <td>1</td>\n",
       "      <td>600.00</td>\n",
       "      <td>04/12/19 14:38</td>\n",
       "      <td>669 Spruce St, Los Angeles, CA 90001</td>\n",
       "      <td>04</td>\n",
       "    </tr>\n",
       "    <tr>\n",
       "      <th>4</th>\n",
       "      <td>176560</td>\n",
       "      <td>Wired Headphones</td>\n",
       "      <td>1</td>\n",
       "      <td>11.99</td>\n",
       "      <td>04/12/19 14:38</td>\n",
       "      <td>669 Spruce St, Los Angeles, CA 90001</td>\n",
       "      <td>04</td>\n",
       "    </tr>\n",
       "  </tbody>\n",
       "</table>\n",
       "</div>"
      ],
      "text/plain": [
       "   Order ID                     Product  Quantity Ordered  Price Each  \\\n",
       "0    176558        USB-C Charging Cable                 2       11.95   \n",
       "2    176559  Bose SoundSport Headphones                 1       99.99   \n",
       "3    176560                Google Phone                 1      600.00   \n",
       "4    176560            Wired Headphones                 1       11.99   \n",
       "\n",
       "       Order Date                      Purchase Address Month  \n",
       "0  04/19/19 08:46          917 1st St, Dallas, TX 75001    04  \n",
       "2  04/07/19 22:30     682 Chestnut St, Boston, MA 02215    04  \n",
       "3  04/12/19 14:38  669 Spruce St, Los Angeles, CA 90001    04  \n",
       "4  04/12/19 14:38  669 Spruce St, Los Angeles, CA 90001    04  "
      ]
     },
     "execution_count": 26,
     "metadata": {},
     "output_type": "execute_result"
    }
   ],
   "source": [
    "dataset.head(4)"
   ]
  },
  {
   "cell_type": "code",
   "execution_count": 27,
   "id": "87fc34b6",
   "metadata": {},
   "outputs": [
    {
     "data": {
      "text/plain": [
       "Order ID              int32\n",
       "Product              object\n",
       "Quantity Ordered      int32\n",
       "Price Each          float64\n",
       "Order Date           object\n",
       "Purchase Address     object\n",
       "Month                object\n",
       "dtype: object"
      ]
     },
     "execution_count": 27,
     "metadata": {},
     "output_type": "execute_result"
    }
   ],
   "source": [
    "dataset.dtypes"
   ]
  },
  {
   "cell_type": "code",
   "execution_count": 28,
   "id": "e53a1eba",
   "metadata": {},
   "outputs": [],
   "source": [
    "dataset['Month']=dataset['Month'].astype(int)"
   ]
  },
  {
   "cell_type": "code",
   "execution_count": 29,
   "id": "5e874034",
   "metadata": {},
   "outputs": [],
   "source": [
    "dataset['sales']=round(dataset['Quantity Ordered']*dataset['Price Each'])"
   ]
  },
  {
   "cell_type": "code",
   "execution_count": 30,
   "id": "072fb112",
   "metadata": {},
   "outputs": [
    {
     "data": {
      "text/html": [
       "<div>\n",
       "<style scoped>\n",
       "    .dataframe tbody tr th:only-of-type {\n",
       "        vertical-align: middle;\n",
       "    }\n",
       "\n",
       "    .dataframe tbody tr th {\n",
       "        vertical-align: top;\n",
       "    }\n",
       "\n",
       "    .dataframe thead th {\n",
       "        text-align: right;\n",
       "    }\n",
       "</style>\n",
       "<table border=\"1\" class=\"dataframe\">\n",
       "  <thead>\n",
       "    <tr style=\"text-align: right;\">\n",
       "      <th></th>\n",
       "      <th>Order ID</th>\n",
       "      <th>Product</th>\n",
       "      <th>Quantity Ordered</th>\n",
       "      <th>Price Each</th>\n",
       "      <th>Order Date</th>\n",
       "      <th>Purchase Address</th>\n",
       "      <th>Month</th>\n",
       "      <th>sales</th>\n",
       "    </tr>\n",
       "  </thead>\n",
       "  <tbody>\n",
       "    <tr>\n",
       "      <th>0</th>\n",
       "      <td>176558</td>\n",
       "      <td>USB-C Charging Cable</td>\n",
       "      <td>2</td>\n",
       "      <td>11.95</td>\n",
       "      <td>04/19/19 08:46</td>\n",
       "      <td>917 1st St, Dallas, TX 75001</td>\n",
       "      <td>4</td>\n",
       "      <td>24.0</td>\n",
       "    </tr>\n",
       "    <tr>\n",
       "      <th>2</th>\n",
       "      <td>176559</td>\n",
       "      <td>Bose SoundSport Headphones</td>\n",
       "      <td>1</td>\n",
       "      <td>99.99</td>\n",
       "      <td>04/07/19 22:30</td>\n",
       "      <td>682 Chestnut St, Boston, MA 02215</td>\n",
       "      <td>4</td>\n",
       "      <td>100.0</td>\n",
       "    </tr>\n",
       "    <tr>\n",
       "      <th>3</th>\n",
       "      <td>176560</td>\n",
       "      <td>Google Phone</td>\n",
       "      <td>1</td>\n",
       "      <td>600.00</td>\n",
       "      <td>04/12/19 14:38</td>\n",
       "      <td>669 Spruce St, Los Angeles, CA 90001</td>\n",
       "      <td>4</td>\n",
       "      <td>600.0</td>\n",
       "    </tr>\n",
       "    <tr>\n",
       "      <th>4</th>\n",
       "      <td>176560</td>\n",
       "      <td>Wired Headphones</td>\n",
       "      <td>1</td>\n",
       "      <td>11.99</td>\n",
       "      <td>04/12/19 14:38</td>\n",
       "      <td>669 Spruce St, Los Angeles, CA 90001</td>\n",
       "      <td>4</td>\n",
       "      <td>12.0</td>\n",
       "    </tr>\n",
       "    <tr>\n",
       "      <th>5</th>\n",
       "      <td>176561</td>\n",
       "      <td>Wired Headphones</td>\n",
       "      <td>1</td>\n",
       "      <td>11.99</td>\n",
       "      <td>04/30/19 09:27</td>\n",
       "      <td>333 8th St, Los Angeles, CA 90001</td>\n",
       "      <td>4</td>\n",
       "      <td>12.0</td>\n",
       "    </tr>\n",
       "  </tbody>\n",
       "</table>\n",
       "</div>"
      ],
      "text/plain": [
       "   Order ID                     Product  Quantity Ordered  Price Each  \\\n",
       "0    176558        USB-C Charging Cable                 2       11.95   \n",
       "2    176559  Bose SoundSport Headphones                 1       99.99   \n",
       "3    176560                Google Phone                 1      600.00   \n",
       "4    176560            Wired Headphones                 1       11.99   \n",
       "5    176561            Wired Headphones                 1       11.99   \n",
       "\n",
       "       Order Date                      Purchase Address  Month  sales  \n",
       "0  04/19/19 08:46          917 1st St, Dallas, TX 75001      4   24.0  \n",
       "2  04/07/19 22:30     682 Chestnut St, Boston, MA 02215      4  100.0  \n",
       "3  04/12/19 14:38  669 Spruce St, Los Angeles, CA 90001      4  600.0  \n",
       "4  04/12/19 14:38  669 Spruce St, Los Angeles, CA 90001      4   12.0  \n",
       "5  04/30/19 09:27     333 8th St, Los Angeles, CA 90001      4   12.0  "
      ]
     },
     "execution_count": 30,
     "metadata": {},
     "output_type": "execute_result"
    }
   ],
   "source": [
    "dataset.head(5)"
   ]
  },
  {
   "cell_type": "code",
   "execution_count": 31,
   "id": "5c7e01b5",
   "metadata": {},
   "outputs": [],
   "source": [
    "dataset['sales']=dataset['sales'].astype(float)"
   ]
  },
  {
   "cell_type": "code",
   "execution_count": 32,
   "id": "719bb855",
   "metadata": {},
   "outputs": [
    {
     "data": {
      "text/plain": [
       "Order ID              int32\n",
       "Product              object\n",
       "Quantity Ordered      int32\n",
       "Price Each          float64\n",
       "Order Date           object\n",
       "Purchase Address     object\n",
       "Month                 int32\n",
       "sales               float64\n",
       "dtype: object"
      ]
     },
     "execution_count": 32,
     "metadata": {},
     "output_type": "execute_result"
    }
   ],
   "source": [
    "dataset.dtypes"
   ]
  },
  {
   "cell_type": "code",
   "execution_count": 33,
   "id": "19cb09d0",
   "metadata": {},
   "outputs": [
    {
     "data": {
      "text/plain": [
       "Month\n",
       "1     1822636.0\n",
       "2     2202497.0\n",
       "3     2807697.0\n",
       "4     3391403.0\n",
       "5     3153254.0\n",
       "6     2578352.0\n",
       "7     2648343.0\n",
       "8     2244943.0\n",
       "9     2098031.0\n",
       "10    3737526.0\n",
       "11    3200299.0\n",
       "12    4614432.0\n",
       "Name: sales, dtype: float64"
      ]
     },
     "execution_count": 33,
     "metadata": {},
     "output_type": "execute_result"
    }
   ],
   "source": [
    "dataset.groupby('Month')['sales'].sum()"
   ]
  },
  {
   "cell_type": "markdown",
   "id": "84dfe4c7",
   "metadata": {},
   "source": [
    "## Starting to plot on the basis of month and sales"
   ]
  },
  {
   "cell_type": "code",
   "execution_count": 34,
   "id": "78d6aa93",
   "metadata": {},
   "outputs": [
    {
     "name": "stdout",
     "output_type": "stream",
     "text": [
      "['Solarize_Light2', '_classic_test_patch', 'bmh', 'classic', 'dark_background', 'fast', 'fivethirtyeight', 'ggplot', 'grayscale', 'seaborn', 'seaborn-bright', 'seaborn-colorblind', 'seaborn-dark', 'seaborn-dark-palette', 'seaborn-darkgrid', 'seaborn-deep', 'seaborn-muted', 'seaborn-notebook', 'seaborn-paper', 'seaborn-pastel', 'seaborn-poster', 'seaborn-talk', 'seaborn-ticks', 'seaborn-white', 'seaborn-whitegrid', 'tableau-colorblind10']\n"
     ]
    }
   ],
   "source": [
    "print(plt.style.available)"
   ]
  },
  {
   "cell_type": "code",
   "execution_count": 35,
   "id": "bcc63a61",
   "metadata": {},
   "outputs": [],
   "source": [
    "from matplotlib.pyplot import figure"
   ]
  },
  {
   "cell_type": "code",
   "execution_count": 36,
   "id": "b63d2b9b",
   "metadata": {},
   "outputs": [
    {
     "name": "stderr",
     "output_type": "stream",
     "text": [
      "<ipython-input-36-2746abbb51c7>:6: MatplotlibDeprecationWarning: Case-insensitive properties were deprecated in 3.3 and support will be removed two minor releases later\n",
      "  plt.xlabel('Month' , Color=\"black\", fontsize=16)\n",
      "<ipython-input-36-2746abbb51c7>:7: MatplotlibDeprecationWarning: Case-insensitive properties were deprecated in 3.3 and support will be removed two minor releases later\n",
      "  plt.xticks(month,Color=\"black\", fontsize=16)\n",
      "<ipython-input-36-2746abbb51c7>:8: MatplotlibDeprecationWarning: Case-insensitive properties were deprecated in 3.3 and support will be removed two minor releases later\n",
      "  plt.ylabel('Sales in US Doller' , Color=\"black\", fontsize=16)\n"
     ]
    },
    {
     "data": {
      "text/plain": [
       "Text(0, 0.5, 'Sales in US Doller')"
      ]
     },
     "execution_count": 36,
     "metadata": {},
     "output_type": "execute_result"
    },
    {
     "data": {
      "image/png": "[encoded data removed]",
      "text/plain": [
       "<Figure size 1080x432 with 1 Axes>"
      ]
     },
     "metadata": {
      "needs_background": "light"
     },
     "output_type": "display_data"
    }
   ],
   "source": [
    "figure(figsize=(15,6))\n",
    "month=range(1,13)\n",
    "plt.style.use(['ggplot'])\n",
    "plt.bar(month,dataset.groupby('Month')['sales'].sum())\n",
    "plt.title('Monthly Data')\n",
    "plt.xlabel('Month' , Color=\"black\", fontsize=16)\n",
    "plt.xticks(month,Color=\"black\", fontsize=16)\n",
    "plt.ylabel('Sales in US Doller' , Color=\"black\", fontsize=16)"
   ]
  },
  {
   "cell_type": "markdown",
   "id": "e3d17c0d",
   "metadata": {},
   "source": [
    "### So as we can see clearly from the figure in the month of December the sales is higher than the other months.\n",
    "\n",
    "\n",
    "## Now analyse it in hourly basis"
   ]
  },
  {
   "cell_type": "markdown",
   "id": "aa5eed03",
   "metadata": {},
   "source": [
    "## Hourly Trend Analysis"
   ]
  },
  {
   "cell_type": "code",
   "execution_count": 37,
   "id": "d06cfe21",
   "metadata": {},
   "outputs": [],
   "source": [
    "dataset['Hour']=pd.to_datetime(dataset['Order Date']).dt.hour"
   ]
  },
  {
   "cell_type": "code",
   "execution_count": 38,
   "id": "407d6769",
   "metadata": {},
   "outputs": [
    {
     "data": {
      "text/plain": [
       "Hour\n",
       "0      713870.0\n",
       "1      460956.0\n",
       "2      234900.0\n",
       "3      145791.0\n",
       "4      162691.0\n",
       "5      230730.0\n",
       "6      448211.0\n",
       "7      745016.0\n",
       "8     1192591.0\n",
       "9     1639372.0\n",
       "10    1944726.0\n",
       "11    2301096.0\n",
       "12    2317324.0\n",
       "13    2155880.0\n",
       "14    2084095.0\n",
       "15    1941960.0\n",
       "16    1905027.0\n",
       "17    2129779.0\n",
       "18    2219836.0\n",
       "19    2413440.0\n",
       "20    2282224.0\n",
       "21    2042428.0\n",
       "22    1607913.0\n",
       "23    1179557.0\n",
       "Name: sales, dtype: float64"
      ]
     },
     "execution_count": 38,
     "metadata": {},
     "output_type": "execute_result"
    }
   ],
   "source": [
    "dataset.groupby('Hour')['sales'].sum()"
   ]
  },
  {
   "cell_type": "code",
   "execution_count": 39,
   "id": "57576acd",
   "metadata": {},
   "outputs": [
    {
     "name": "stderr",
     "output_type": "stream",
     "text": [
      "<ipython-input-39-fcb2eeb433b6>:4: MatplotlibDeprecationWarning: Case-insensitive properties were deprecated in 3.3 and support will be removed two minor releases later\n",
      "  plt.title('Hourly Sale' , Color=\"black\" , fontsize=20)\n",
      "<ipython-input-39-fcb2eeb433b6>:5: MatplotlibDeprecationWarning: Case-insensitive properties were deprecated in 3.3 and support will be removed two minor releases later\n",
      "  plt.xlabel('Hour' , Color=\"black\", fontsize=16)\n",
      "<ipython-input-39-fcb2eeb433b6>:6: MatplotlibDeprecationWarning: Case-insensitive properties were deprecated in 3.3 and support will be removed two minor releases later\n",
      "  plt.ylabel('Sales in US Doller' , Color=\"black\", fontsize=16)\n"
     ]
    },
    {
     "data": {
      "text/plain": [
       "Text(0, 0.5, 'Sales in US Doller')"
      ]
     },
     "execution_count": 39,
     "metadata": {},
     "output_type": "execute_result"
    },
    {
     "data": {
      "image/png": "[encoded data removed]",
      "text/plain": [
       "<Figure size 1080x432 with 1 Axes>"
      ]
     },
     "metadata": {},
     "output_type": "display_data"
    }
   ],
   "source": [
    "from matplotlib.pyplot import figure\n",
    "figure(figsize=(15, 6))\n",
    "plt.plot(dataset.groupby('Hour')['sales'].sum())\n",
    "plt.title('Hourly Sale' , Color=\"black\" , fontsize=20)\n",
    "plt.xlabel('Hour' , Color=\"black\", fontsize=16)\n",
    "plt.ylabel('Sales in US Doller' , Color=\"black\", fontsize=16)"
   ]
  },
  {
   "cell_type": "code",
   "execution_count": 40,
   "id": "80e2904b",
   "metadata": {},
   "outputs": [
    {
     "data": {
      "text/html": [
       "<div>\n",
       "<style scoped>\n",
       "    .dataframe tbody tr th:only-of-type {\n",
       "        vertical-align: middle;\n",
       "    }\n",
       "\n",
       "    .dataframe tbody tr th {\n",
       "        vertical-align: top;\n",
       "    }\n",
       "\n",
       "    .dataframe thead th {\n",
       "        text-align: right;\n",
       "    }\n",
       "</style>\n",
       "<table border=\"1\" class=\"dataframe\">\n",
       "  <thead>\n",
       "    <tr style=\"text-align: right;\">\n",
       "      <th></th>\n",
       "      <th>Order ID</th>\n",
       "      <th>Product</th>\n",
       "      <th>Quantity Ordered</th>\n",
       "      <th>Price Each</th>\n",
       "      <th>Order Date</th>\n",
       "      <th>Purchase Address</th>\n",
       "      <th>Month</th>\n",
       "      <th>sales</th>\n",
       "      <th>Hour</th>\n",
       "    </tr>\n",
       "  </thead>\n",
       "  <tbody>\n",
       "    <tr>\n",
       "      <th>0</th>\n",
       "      <td>176558</td>\n",
       "      <td>USB-C Charging Cable</td>\n",
       "      <td>2</td>\n",
       "      <td>11.95</td>\n",
       "      <td>04/19/19 08:46</td>\n",
       "      <td>917 1st St, Dallas, TX 75001</td>\n",
       "      <td>4</td>\n",
       "      <td>24.0</td>\n",
       "      <td>8</td>\n",
       "    </tr>\n",
       "    <tr>\n",
       "      <th>2</th>\n",
       "      <td>176559</td>\n",
       "      <td>Bose SoundSport Headphones</td>\n",
       "      <td>1</td>\n",
       "      <td>99.99</td>\n",
       "      <td>04/07/19 22:30</td>\n",
       "      <td>682 Chestnut St, Boston, MA 02215</td>\n",
       "      <td>4</td>\n",
       "      <td>100.0</td>\n",
       "      <td>22</td>\n",
       "    </tr>\n",
       "    <tr>\n",
       "      <th>3</th>\n",
       "      <td>176560</td>\n",
       "      <td>Google Phone</td>\n",
       "      <td>1</td>\n",
       "      <td>600.00</td>\n",
       "      <td>04/12/19 14:38</td>\n",
       "      <td>669 Spruce St, Los Angeles, CA 90001</td>\n",
       "      <td>4</td>\n",
       "      <td>600.0</td>\n",
       "      <td>14</td>\n",
       "    </tr>\n",
       "  </tbody>\n",
       "</table>\n",
       "</div>"
      ],
      "text/plain": [
       "   Order ID                     Product  Quantity Ordered  Price Each  \\\n",
       "0    176558        USB-C Charging Cable                 2       11.95   \n",
       "2    176559  Bose SoundSport Headphones                 1       99.99   \n",
       "3    176560                Google Phone                 1      600.00   \n",
       "\n",
       "       Order Date                      Purchase Address  Month  sales  Hour  \n",
       "0  04/19/19 08:46          917 1st St, Dallas, TX 75001      4   24.0     8  \n",
       "2  04/07/19 22:30     682 Chestnut St, Boston, MA 02215      4  100.0    22  \n",
       "3  04/12/19 14:38  669 Spruce St, Los Angeles, CA 90001      4  600.0    14  "
      ]
     },
     "execution_count": 40,
     "metadata": {},
     "output_type": "execute_result"
    }
   ],
   "source": [
    "dataset.head(3)"
   ]
  },
  {
   "cell_type": "markdown",
   "id": "e2df21d0",
   "metadata": {},
   "source": [
    "## From which City did the most orders occure?"
   ]
  },
  {
   "cell_type": "code",
   "execution_count": 41,
   "id": "b4387315",
   "metadata": {},
   "outputs": [
    {
     "data": {
      "text/plain": [
       "' Dallas'"
      ]
     },
     "execution_count": 41,
     "metadata": {},
     "output_type": "execute_result"
    }
   ],
   "source": [
    "'917 1st St, Dallas, TX 75001'.split(',')[1]"
   ]
  },
  {
   "cell_type": "code",
   "execution_count": 42,
   "id": "a6f409ac",
   "metadata": {},
   "outputs": [],
   "source": [
    "def address(x):\n",
    "   return x.split(',')[1]"
   ]
  },
  {
   "cell_type": "code",
   "execution_count": 43,
   "id": "0696171b",
   "metadata": {},
   "outputs": [],
   "source": [
    "dataset['Address City']= dataset['Purchase Address'].apply(address)"
   ]
  },
  {
   "cell_type": "code",
   "execution_count": 44,
   "id": "9bb84297",
   "metadata": {},
   "outputs": [
    {
     "data": {
      "text/html": [
       "<div>\n",
       "<style scoped>\n",
       "    .dataframe tbody tr th:only-of-type {\n",
       "        vertical-align: middle;\n",
       "    }\n",
       "\n",
       "    .dataframe tbody tr th {\n",
       "        vertical-align: top;\n",
       "    }\n",
       "\n",
       "    .dataframe thead th {\n",
       "        text-align: right;\n",
       "    }\n",
       "</style>\n",
       "<table border=\"1\" class=\"dataframe\">\n",
       "  <thead>\n",
       "    <tr style=\"text-align: right;\">\n",
       "      <th></th>\n",
       "      <th>Order ID</th>\n",
       "      <th>Product</th>\n",
       "      <th>Quantity Ordered</th>\n",
       "      <th>Price Each</th>\n",
       "      <th>Order Date</th>\n",
       "      <th>Purchase Address</th>\n",
       "      <th>Month</th>\n",
       "      <th>sales</th>\n",
       "      <th>Hour</th>\n",
       "      <th>Address City</th>\n",
       "    </tr>\n",
       "  </thead>\n",
       "  <tbody>\n",
       "    <tr>\n",
       "      <th>0</th>\n",
       "      <td>176558</td>\n",
       "      <td>USB-C Charging Cable</td>\n",
       "      <td>2</td>\n",
       "      <td>11.95</td>\n",
       "      <td>04/19/19 08:46</td>\n",
       "      <td>917 1st St, Dallas, TX 75001</td>\n",
       "      <td>4</td>\n",
       "      <td>24.0</td>\n",
       "      <td>8</td>\n",
       "      <td>Dallas</td>\n",
       "    </tr>\n",
       "    <tr>\n",
       "      <th>2</th>\n",
       "      <td>176559</td>\n",
       "      <td>Bose SoundSport Headphones</td>\n",
       "      <td>1</td>\n",
       "      <td>99.99</td>\n",
       "      <td>04/07/19 22:30</td>\n",
       "      <td>682 Chestnut St, Boston, MA 02215</td>\n",
       "      <td>4</td>\n",
       "      <td>100.0</td>\n",
       "      <td>22</td>\n",
       "      <td>Boston</td>\n",
       "    </tr>\n",
       "  </tbody>\n",
       "</table>\n",
       "</div>"
      ],
      "text/plain": [
       "   Order ID                     Product  Quantity Ordered  Price Each  \\\n",
       "0    176558        USB-C Charging Cable                 2       11.95   \n",
       "2    176559  Bose SoundSport Headphones                 1       99.99   \n",
       "\n",
       "       Order Date                   Purchase Address  Month  sales  Hour  \\\n",
       "0  04/19/19 08:46       917 1st St, Dallas, TX 75001      4   24.0     8   \n",
       "2  04/07/19 22:30  682 Chestnut St, Boston, MA 02215      4  100.0    22   \n",
       "\n",
       "  Address City  \n",
       "0       Dallas  \n",
       "2       Boston  "
      ]
     },
     "execution_count": 44,
     "metadata": {},
     "output_type": "execute_result"
    }
   ],
   "source": [
    "dataset.head(2)"
   ]
  },
  {
   "cell_type": "code",
   "execution_count": 45,
   "id": "7a7ca642",
   "metadata": {},
   "outputs": [
    {
     "data": {
      "text/plain": [
       "Text(0.5, 1.0, 'Address City')"
      ]
     },
     "execution_count": 45,
     "metadata": {},
     "output_type": "execute_result"
    },
    {
     "data": {
      "image/png": "[encoded data removed]",
      "text/plain": [
       "<Figure size 1152x288 with 1 Axes>"
      ]
     },
     "metadata": {},
     "output_type": "display_data"
    }
   ],
   "source": [
    "figure(figsize=(16, 4))\n",
    "plt.style.use(['seaborn'])\n",
    "dataset.groupby('Address City')['Address City'].count().plot.bar(fontsize=15)\n",
    "plt.title('Address City', fontsize=22)"
   ]
  },
  {
   "cell_type": "markdown",
   "id": "192f8fe5",
   "metadata": {},
   "source": [
    "### So we can see that from San Fransisco the highest times of sales occured"
   ]
  },
  {
   "cell_type": "markdown",
   "id": "53450877",
   "metadata": {},
   "source": [
    "## Now determine which product is mostly sold by"
   ]
  },
  {
   "cell_type": "code",
   "execution_count": 46,
   "id": "7fef487f",
   "metadata": {},
   "outputs": [
    {
     "data": {
      "text/plain": [
       "<AxesSubplot:xlabel='Product'>"
      ]
     },
     "execution_count": 46,
     "metadata": {},
     "output_type": "execute_result"
    },
    {
     "data": {
      "image/png": "[encoded data removed]",
      "text/plain": [
       "<Figure size 1080x432 with 1 Axes>"
      ]
     },
     "metadata": {},
     "output_type": "display_data"
    }
   ],
   "source": [
    "figure(figsize=(15, 6))\n",
    "plt.style.use(['ggplot'])\n",
    "dataset.groupby('Product')['Quantity Ordered'].sum().plot(kind='bar')"
   ]
  },
  {
   "cell_type": "code",
   "execution_count": 47,
   "id": "e28313ff",
   "metadata": {},
   "outputs": [
    {
     "data": {
      "text/plain": [
       "array(['USB-C Charging Cable', 'Bose SoundSport Headphones',\n",
       "       'Google Phone', 'Wired Headphones', 'Macbook Pro Laptop',\n",
       "       'Lightning Charging Cable', '27in 4K Gaming Monitor',\n",
       "       'AA Batteries (4-pack)', 'Apple Airpods Headphones',\n",
       "       'AAA Batteries (4-pack)', 'iPhone', 'Flatscreen TV',\n",
       "       '27in FHD Monitor', '20in Monitor', 'LG Dryer', 'ThinkPad Laptop',\n",
       "       'Vareebadd Phone', 'LG Washing Machine', '34in Ultrawide Monitor'],\n",
       "      dtype=object)"
      ]
     },
     "execution_count": 47,
     "metadata": {},
     "output_type": "execute_result"
    }
   ],
   "source": [
    "dataset['Product'].unique()"
   ]
  },
  {
   "cell_type": "markdown",
   "id": "1d5939f0",
   "metadata": {},
   "source": [
    "#### So here we can see the 'AAA Batteries (4-pack)' is the product which is highly sold"
   ]
  },
  {
   "cell_type": "markdown",
   "id": "a7d52969",
   "metadata": {},
   "source": [
    "## Now analyse the product with their mean price"
   ]
  },
  {
   "cell_type": "code",
   "execution_count": 48,
   "id": "645a2f6a",
   "metadata": {},
   "outputs": [
    {
     "data": {
      "text/plain": [
       "<AxesSubplot:xlabel='Product'>"
      ]
     },
     "execution_count": 48,
     "metadata": {},
     "output_type": "execute_result"
    },
    {
     "data": {
      "image/png": "[encoded data removed]",
      "text/plain": [
       "<Figure size 1080x432 with 1 Axes>"
      ]
     },
     "metadata": {},
     "output_type": "display_data"
    }
   ],
   "source": [
    "figure(figsize=(15,6))\n",
    "dataset.groupby('Product')['Price Each'].mean().plot(kind='bar',color='Orange')"
   ]
  },
  {
   "cell_type": "markdown",
   "id": "ce72edc8",
   "metadata": {},
   "source": [
    "### So 'Macbook pro laptop' has the highest mean price"
   ]
  },
  {
   "cell_type": "markdown",
   "id": "4ed5b5c2",
   "metadata": {},
   "source": [
    "## Now subplot these two graphs of highly sold product and highly expensive product"
   ]
  },
  {
   "cell_type": "code",
   "execution_count": 49,
   "id": "be52a468",
   "metadata": {},
   "outputs": [],
   "source": [
    "product=dataset.groupby('Product')['Quantity Ordered'].sum().index"
   ]
  },
  {
   "cell_type": "code",
   "execution_count": 50,
   "id": "4e2fb511",
   "metadata": {},
   "outputs": [
    {
     "data": {
      "text/plain": [
       "Index(['20in Monitor', '27in 4K Gaming Monitor', '27in FHD Monitor',\n",
       "       '34in Ultrawide Monitor', 'AA Batteries (4-pack)',\n",
       "       'AAA Batteries (4-pack)', 'Apple Airpods Headphones',\n",
       "       'Bose SoundSport Headphones', 'Flatscreen TV', 'Google Phone',\n",
       "       'LG Dryer', 'LG Washing Machine', 'Lightning Charging Cable',\n",
       "       'Macbook Pro Laptop', 'ThinkPad Laptop', 'USB-C Charging Cable',\n",
       "       'Vareebadd Phone', 'Wired Headphones', 'iPhone'],\n",
       "      dtype='object', name='Product')"
      ]
     },
     "execution_count": 50,
     "metadata": {},
     "output_type": "execute_result"
    }
   ],
   "source": [
    "product"
   ]
  },
  {
   "cell_type": "code",
   "execution_count": 51,
   "id": "0faf7ff5",
   "metadata": {},
   "outputs": [],
   "source": [
    "quantity=dataset.groupby('Product')['Quantity Ordered'].sum()\n",
    "price= dataset.groupby('Product')['Price Each'].sum()"
   ]
  },
  {
   "cell_type": "markdown",
   "id": "4fc9a5c6",
   "metadata": {},
   "source": [
    "### here we will use twinx() function . This function in axes module of mathplotlib  is used to creat a twin axes sharing the x-axis"
   ]
  },
  {
   "cell_type": "code",
   "execution_count": 52,
   "id": "52a52b50",
   "metadata": {},
   "outputs": [
    {
     "name": "stderr",
     "output_type": "stream",
     "text": [
      "<ipython-input-52-9618527b7e01>:6: UserWarning: FixedFormatter should only be used together with FixedLocator\n",
      "  ax1.set_xticklabels(product, rotation='vertical' , size=6 , fontsize=16)\n"
     ]
    },
    {
     "data": {
      "text/plain": [
       "[Text(0, 0, '20in Monitor'),\n",
       " Text(1, 0, '27in 4K Gaming Monitor'),\n",
       " Text(2, 0, '27in FHD Monitor'),\n",
       " Text(3, 0, '34in Ultrawide Monitor'),\n",
       " Text(4, 0, 'AA Batteries (4-pack)'),\n",
       " Text(5, 0, 'AAA Batteries (4-pack)'),\n",
       " Text(6, 0, 'Apple Airpods Headphones'),\n",
       " Text(7, 0, 'Bose SoundSport Headphones'),\n",
       " Text(8, 0, 'Flatscreen TV'),\n",
       " Text(9, 0, 'Google Phone'),\n",
       " Text(10, 0, 'LG Dryer'),\n",
       " Text(11, 0, 'LG Washing Machine'),\n",
       " Text(12, 0, 'Lightning Charging Cable'),\n",
       " Text(13, 0, 'Macbook Pro Laptop'),\n",
       " Text(14, 0, 'ThinkPad Laptop'),\n",
       " Text(15, 0, 'USB-C Charging Cable'),\n",
       " Text(16, 0, 'Vareebadd Phone'),\n",
       " Text(17, 0, 'Wired Headphones'),\n",
       " Text(18, 0, 'iPhone')]"
      ]
     },
     "execution_count": 52,
     "metadata": {},
     "output_type": "execute_result"
    },
    {
     "data": {
      "text/plain": [
       "<Figure size 1080x432 with 0 Axes>"
      ]
     },
     "metadata": {},
     "output_type": "display_data"
    },
    {
     "data": {
      "image/png": "[encoded data removed]",
      "text/plain": [
       "<Figure size 576x396 with 2 Axes>"
      ]
     },
     "metadata": {},
     "output_type": "display_data"
    }
   ],
   "source": [
    "figure(figsize=(15,6))\n",
    "fig,ax1= plt.subplots()\n",
    "ax2=ax1.twinx()\n",
    "ax1.bar(product,quantity,color='red')\n",
    "ax2.plot(product,price, color='blue')\n",
    "ax1.set_xticklabels(product, rotation='vertical' , size=6 , fontsize=16)"
   ]
  },
  {
   "cell_type": "markdown",
   "id": "6957948f",
   "metadata": {},
   "source": []
  },
  {
   "cell_type": "code",
   "execution_count": null,
   "id": "1550e389",
   "metadata": {},
   "outputs": [],
   "source": []
  }
 ],
 "metadata": {
  "kernelspec": {
   "display_name": "Python 3",
   "language": "python",
   "name": "python3"
  },
  "language_info": {
   "codemirror_mode": {
    "name": "ipython",
    "version": 3
   },
   "file_extension": ".py",
   "mimetype": "text/x-python",
   "name": "python",
   "nbconvert_exporter": "python",
   "pygments_lexer": "ipython3",
   "version": "3.8.8"
  }
 },
 "nbformat": 4,
 "nbformat_minor": 5
}
